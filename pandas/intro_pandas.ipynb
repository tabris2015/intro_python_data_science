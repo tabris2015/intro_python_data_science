{
 "metadata": {
  "language_info": {
   "codemirror_mode": {
    "name": "ipython",
    "version": 3
   },
   "file_extension": ".py",
   "mimetype": "text/x-python",
   "name": "python",
   "nbconvert_exporter": "python",
   "pygments_lexer": "ipython3",
   "version": "3.8.5-final"
  },
  "orig_nbformat": 2,
  "kernelspec": {
   "name": "python3",
   "display_name": "Python 3.8.5 64-bit (conda)",
   "metadata": {
    "interpreter": {
     "hash": "71acee0cfb9a82bc536480969b0f15341b1bddd213b65192b9b661533bc898b4"
    }
   }
  }
 },
 "nbformat": 4,
 "nbformat_minor": 2,
 "cells": [
  {
   "source": [
    "# Introducción a Pandas\n",
    "\n",
    "En este notebook exploraremos una nueva librería para el manejo de datos estructurados con muchas funcionalides muy útiles para tareas de aprendizaje automático y ciencia de datos. \n",
    "\n",
    "Pandas nos permitirá importar, procesar y explorar datos en base a distintos formatos y características aprovechando varios conceptos y utilidades ya conocidas con con numpy,\n"
   ],
   "cell_type": "markdown",
   "metadata": {}
  },
  {
   "cell_type": "code",
   "execution_count": 4,
   "metadata": {},
   "outputs": [],
   "source": [
    "import numpy as np\n",
    "import pandas as pd"
   ]
  },
  {
   "source": [
    "## Estructuras de datos\n",
    "\n",
    "Pandas ofrece 2 estructuras de datos principales para realizar y facilitar las operaciones, los Dataframes y las Series.\n"
   ],
   "cell_type": "markdown",
   "metadata": {}
  },
  {
   "source": [
    "### Series\n",
    "\n",
    "Un objeto de tipo Series es un array unidimensional capaz de contener cualquier tipo de datos. Las etiquetas de los objetos se denominan índices o index.\n",
    "\n",
    "Para crear un objeto de tipo `series` se puede usar:\n",
    "\n",
    "```python\n",
    "s = pd.Series(data, index=index)\n",
    "```\n",
    "\n",
    "donde `data` puede ser un diccionario de python, un array de numpy, un valor escalar.\n",
    "\n",
    "`index` es una lista de etiquetas.\n"
   ],
   "cell_type": "markdown",
   "metadata": {}
  },
  {
   "cell_type": "code",
   "execution_count": 11,
   "metadata": {},
   "outputs": [],
   "source": [
    "s = pd.Series(np.random.randn(5), index=['a', 'b', 'c', 'd', 'e'])\n"
   ]
  },
  {
   "cell_type": "code",
   "execution_count": 12,
   "metadata": {},
   "outputs": [
    {
     "output_type": "execute_result",
     "data": {
      "text/plain": [
       "a   -0.748200\n",
       "b    0.527469\n",
       "c   -0.307823\n",
       "d    0.402765\n",
       "e   -0.073102\n",
       "dtype: float64"
      ]
     },
     "metadata": {},
     "execution_count": 12
    }
   ],
   "source": [
    "s"
   ]
  },
  {
   "cell_type": "code",
   "execution_count": 13,
   "metadata": {},
   "outputs": [
    {
     "output_type": "execute_result",
     "data": {
      "text/plain": [
       "Index(['a', 'b', 'c', 'd', 'e'], dtype='object')"
      ]
     },
     "metadata": {},
     "execution_count": 13
    }
   ],
   "source": [
    "s.index"
   ]
  },
  {
   "cell_type": "code",
   "execution_count": 15,
   "metadata": {},
   "outputs": [
    {
     "output_type": "execute_result",
     "data": {
      "text/plain": [
       "b    1\n",
       "a    0\n",
       "c    2\n",
       "x    9\n",
       "dtype: int64"
      ]
     },
     "metadata": {},
     "execution_count": 15
    }
   ],
   "source": [
    "d = {'b': 1, 'a': 0, 'c': 2, 'x': 9}\n",
    "pd.Series(d)"
   ]
  },
  {
   "source": [
    "s[0]"
   ],
   "cell_type": "code",
   "metadata": {},
   "execution_count": 16,
   "outputs": [
    {
     "output_type": "execute_result",
     "data": {
      "text/plain": [
       "-0.7482000031762714"
      ]
     },
     "metadata": {},
     "execution_count": 16
    }
   ]
  },
  {
   "cell_type": "code",
   "execution_count": 17,
   "metadata": {},
   "outputs": [
    {
     "output_type": "execute_result",
     "data": {
      "text/plain": [
       "a   -0.748200\n",
       "b    0.527469\n",
       "c   -0.307823\n",
       "dtype: float64"
      ]
     },
     "metadata": {},
     "execution_count": 17
    }
   ],
   "source": [
    "s[:3]"
   ]
  },
  {
   "cell_type": "code",
   "execution_count": 18,
   "metadata": {},
   "outputs": [
    {
     "output_type": "execute_result",
     "data": {
      "text/plain": [
       "b    0.527469\n",
       "d    0.402765\n",
       "dtype: float64"
      ]
     },
     "metadata": {},
     "execution_count": 18
    }
   ],
   "source": [
    "s[s > s.median()]"
   ]
  },
  {
   "cell_type": "code",
   "execution_count": 19,
   "metadata": {},
   "outputs": [
    {
     "output_type": "execute_result",
     "data": {
      "text/plain": [
       "-0.07310173254155264"
      ]
     },
     "metadata": {},
     "execution_count": 19
    }
   ],
   "source": [
    "s.median()"
   ]
  },
  {
   "cell_type": "code",
   "execution_count": 20,
   "metadata": {},
   "outputs": [
    {
     "output_type": "execute_result",
     "data": {
      "text/plain": [
       "e   -0.073102\n",
       "d    0.402765\n",
       "b    0.527469\n",
       "dtype: float64"
      ]
     },
     "metadata": {},
     "execution_count": 20
    }
   ],
   "source": [
    "s[[4, 3, 1]]"
   ]
  },
  {
   "cell_type": "code",
   "execution_count": 21,
   "metadata": {},
   "outputs": [
    {
     "output_type": "execute_result",
     "data": {
      "text/plain": [
       "a    0.473218\n",
       "b    1.694638\n",
       "c    0.735046\n",
       "d    1.495955\n",
       "e    0.929506\n",
       "dtype: float64"
      ]
     },
     "metadata": {},
     "execution_count": 21
    }
   ],
   "source": [
    "np.exp(s)"
   ]
  },
  {
   "cell_type": "code",
   "execution_count": 22,
   "metadata": {},
   "outputs": [
    {
     "output_type": "execute_result",
     "data": {
      "text/plain": [
       "-0.7482000031762714"
      ]
     },
     "metadata": {},
     "execution_count": 22
    }
   ],
   "source": [
    "s['a']"
   ]
  },
  {
   "cell_type": "code",
   "execution_count": 24,
   "metadata": {},
   "outputs": [
    {
     "output_type": "execute_result",
     "data": {
      "text/plain": [
       "a    -0.748200\n",
       "b     0.527469\n",
       "c    -0.307823\n",
       "d     0.402765\n",
       "e    12.000000\n",
       "dtype: float64"
      ]
     },
     "metadata": {},
     "execution_count": 24
    }
   ],
   "source": [
    "s['e'] = 12.0\n",
    "s"
   ]
  },
  {
   "cell_type": "code",
   "execution_count": 25,
   "metadata": {},
   "outputs": [
    {
     "output_type": "execute_result",
     "data": {
      "text/plain": [
       "True"
      ]
     },
     "metadata": {},
     "execution_count": 25
    }
   ],
   "source": [
    "'e' in s"
   ]
  },
  {
   "cell_type": "code",
   "execution_count": 26,
   "metadata": {},
   "outputs": [
    {
     "output_type": "execute_result",
     "data": {
      "text/plain": [
       "False"
      ]
     },
     "metadata": {},
     "execution_count": 26
    }
   ],
   "source": [
    "'f' in s"
   ]
  },
  {
   "cell_type": "code",
   "execution_count": 27,
   "metadata": {},
   "outputs": [
    {
     "output_type": "execute_result",
     "data": {
      "text/plain": [
       "a    -1.496400\n",
       "b     1.054939\n",
       "c    -0.615645\n",
       "d     0.805529\n",
       "e    24.000000\n",
       "dtype: float64"
      ]
     },
     "metadata": {},
     "execution_count": 27
    }
   ],
   "source": [
    "s + s"
   ]
  },
  {
   "cell_type": "code",
   "execution_count": 29,
   "metadata": {},
   "outputs": [
    {
     "output_type": "execute_result",
     "data": {
      "text/plain": [
       "b     0.527469\n",
       "c    -0.307823\n",
       "d     0.402765\n",
       "e    12.000000\n",
       "dtype: float64"
      ]
     },
     "metadata": {},
     "execution_count": 29
    }
   ],
   "source": [
    "s[1:]"
   ]
  },
  {
   "cell_type": "code",
   "execution_count": 30,
   "metadata": {},
   "outputs": [
    {
     "output_type": "execute_result",
     "data": {
      "text/plain": [
       "a   -0.748200\n",
       "b    0.527469\n",
       "c   -0.307823\n",
       "d    0.402765\n",
       "dtype: float64"
      ]
     },
     "metadata": {},
     "execution_count": 30
    }
   ],
   "source": [
    "s[:-1]"
   ]
  },
  {
   "cell_type": "code",
   "execution_count": 28,
   "metadata": {},
   "outputs": [
    {
     "output_type": "execute_result",
     "data": {
      "text/plain": [
       "a         NaN\n",
       "b    1.054939\n",
       "c   -0.615645\n",
       "d    0.805529\n",
       "e         NaN\n",
       "dtype: float64"
      ]
     },
     "metadata": {},
     "execution_count": 28
    }
   ],
   "source": [
    "s[1:] + s[:-1]"
   ]
  },
  {
   "cell_type": "code",
   "execution_count": 31,
   "metadata": {},
   "outputs": [],
   "source": [
    "s = pd.Series(np.random.randn(5), name='something')"
   ]
  },
  {
   "cell_type": "code",
   "execution_count": 32,
   "metadata": {},
   "outputs": [
    {
     "output_type": "execute_result",
     "data": {
      "text/plain": [
       "'something'"
      ]
     },
     "metadata": {},
     "execution_count": 32
    }
   ],
   "source": [
    "s.name"
   ]
  },
  {
   "source": [
    "### Dataframe\n",
    "\n",
    "Un DataFrame es una estructura de datos bidimensional con columnas de datos no necesariamente iguales. Un DataFrame se suele comparar con una tabla de excel o una tabla en una base de datos.\n",
    "\n",
    "Generalmente, el DataFrame es el objeto más usado de Pandas. Puede aceptar distintos tipos de entradas:\n",
    "  - diccionario de arrays 1d, listas, dicts o Series\n",
    "  - array numpy de 2 dimensiones\n",
    "  - Un Series\n",
    "  - Otro DataFrame\n",
    "\n",
    "Junto con los datos, se puede especificar un `index` (etiquetas de filas) y `columns` (etiquetas de columnas.\n",
    ")"
   ],
   "cell_type": "markdown",
   "metadata": {}
  },
  {
   "cell_type": "code",
   "execution_count": 33,
   "metadata": {},
   "outputs": [
    {
     "output_type": "execute_result",
     "data": {
      "text/plain": [
       "{'one': a    1.0\n",
       " b    2.0\n",
       " c    3.0\n",
       " dtype: float64,\n",
       " 'two': a    1.0\n",
       " b    2.0\n",
       " c    3.0\n",
       " d    4.0\n",
       " dtype: float64}"
      ]
     },
     "metadata": {},
     "execution_count": 33
    }
   ],
   "source": [
    "d = {'one': pd.Series([1., 2., 3.], index=['a', 'b', 'c']),\n",
    "    'two': pd.Series([1., 2., 3., 4.], index=['a', 'b', 'c', 'd'])}\n",
    "d"
   ]
  },
  {
   "cell_type": "code",
   "execution_count": 34,
   "metadata": {},
   "outputs": [
    {
     "output_type": "execute_result",
     "data": {
      "text/plain": [
       "   one  two\n",
       "d  NaN  4.0\n",
       "b  2.0  2.0\n",
       "a  1.0  1.0"
      ],
      "text/html": "<div>\n<style scoped>\n    .dataframe tbody tr th:only-of-type {\n        vertical-align: middle;\n    }\n\n    .dataframe tbody tr th {\n        vertical-align: top;\n    }\n\n    .dataframe thead th {\n        text-align: right;\n    }\n</style>\n<table border=\"1\" class=\"dataframe\">\n  <thead>\n    <tr style=\"text-align: right;\">\n      <th></th>\n      <th>one</th>\n      <th>two</th>\n    </tr>\n  </thead>\n  <tbody>\n    <tr>\n      <th>d</th>\n      <td>NaN</td>\n      <td>4.0</td>\n    </tr>\n    <tr>\n      <th>b</th>\n      <td>2.0</td>\n      <td>2.0</td>\n    </tr>\n    <tr>\n      <th>a</th>\n      <td>1.0</td>\n      <td>1.0</td>\n    </tr>\n  </tbody>\n</table>\n</div>"
     },
     "metadata": {},
     "execution_count": 34
    }
   ],
   "source": [
    "pd.DataFrame(d, index=['d', 'b', 'a'])"
   ]
  },
  {
   "cell_type": "code",
   "execution_count": 37,
   "metadata": {},
   "outputs": [],
   "source": [
    "df = pd.DataFrame(d, index=['d', 'b', 'a'], columns=['one', 'two', 'three'])"
   ]
  },
  {
   "cell_type": "code",
   "execution_count": 38,
   "metadata": {},
   "outputs": [
    {
     "output_type": "execute_result",
     "data": {
      "text/plain": [
       "Index(['d', 'b', 'a'], dtype='object')"
      ]
     },
     "metadata": {},
     "execution_count": 38
    }
   ],
   "source": [
    "df.index"
   ]
  },
  {
   "cell_type": "code",
   "execution_count": 39,
   "metadata": {},
   "outputs": [
    {
     "output_type": "execute_result",
     "data": {
      "text/plain": [
       "Index(['one', 'two', 'three'], dtype='object')"
      ]
     },
     "metadata": {},
     "execution_count": 39
    }
   ],
   "source": [
    "df.columns"
   ]
  },
  {
   "cell_type": "code",
   "execution_count": 40,
   "metadata": {},
   "outputs": [
    {
     "output_type": "execute_result",
     "data": {
      "text/plain": [
       "   one  two\n",
       "0  1.0  4.0\n",
       "1  2.0  3.0\n",
       "2  3.0  2.0\n",
       "3  4.0  1.0"
      ],
      "text/html": "<div>\n<style scoped>\n    .dataframe tbody tr th:only-of-type {\n        vertical-align: middle;\n    }\n\n    .dataframe tbody tr th {\n        vertical-align: top;\n    }\n\n    .dataframe thead th {\n        text-align: right;\n    }\n</style>\n<table border=\"1\" class=\"dataframe\">\n  <thead>\n    <tr style=\"text-align: right;\">\n      <th></th>\n      <th>one</th>\n      <th>two</th>\n    </tr>\n  </thead>\n  <tbody>\n    <tr>\n      <th>0</th>\n      <td>1.0</td>\n      <td>4.0</td>\n    </tr>\n    <tr>\n      <th>1</th>\n      <td>2.0</td>\n      <td>3.0</td>\n    </tr>\n    <tr>\n      <th>2</th>\n      <td>3.0</td>\n      <td>2.0</td>\n    </tr>\n    <tr>\n      <th>3</th>\n      <td>4.0</td>\n      <td>1.0</td>\n    </tr>\n  </tbody>\n</table>\n</div>"
     },
     "metadata": {},
     "execution_count": 40
    }
   ],
   "source": [
    "d = {'one': [1., 2., 3., 4.],'two': [4., 3., 2., 1.]}\n",
    "pd.DataFrame(d)"
   ]
  },
  {
   "cell_type": "code",
   "execution_count": 41,
   "metadata": {},
   "outputs": [
    {
     "output_type": "execute_result",
     "data": {
      "text/plain": [
       "   one  two\n",
       "a  1.0  4.0\n",
       "b  2.0  3.0\n",
       "c  3.0  2.0\n",
       "d  4.0  1.0"
      ],
      "text/html": "<div>\n<style scoped>\n    .dataframe tbody tr th:only-of-type {\n        vertical-align: middle;\n    }\n\n    .dataframe tbody tr th {\n        vertical-align: top;\n    }\n\n    .dataframe thead th {\n        text-align: right;\n    }\n</style>\n<table border=\"1\" class=\"dataframe\">\n  <thead>\n    <tr style=\"text-align: right;\">\n      <th></th>\n      <th>one</th>\n      <th>two</th>\n    </tr>\n  </thead>\n  <tbody>\n    <tr>\n      <th>a</th>\n      <td>1.0</td>\n      <td>4.0</td>\n    </tr>\n    <tr>\n      <th>b</th>\n      <td>2.0</td>\n      <td>3.0</td>\n    </tr>\n    <tr>\n      <th>c</th>\n      <td>3.0</td>\n      <td>2.0</td>\n    </tr>\n    <tr>\n      <th>d</th>\n      <td>4.0</td>\n      <td>1.0</td>\n    </tr>\n  </tbody>\n</table>\n</div>"
     },
     "metadata": {},
     "execution_count": 41
    }
   ],
   "source": [
    "pd.DataFrame(d, index=['a', 'b', 'c', 'd'])"
   ]
  },
  {
   "cell_type": "code",
   "execution_count": 42,
   "metadata": {},
   "outputs": [
    {
     "output_type": "execute_result",
     "data": {
      "text/plain": [
       "array([(0, 0., b''), (0, 0., b'')],\n",
       "      dtype=[('A', '<i4'), ('B', '<f4'), ('C', 'S10')])"
      ]
     },
     "metadata": {},
     "execution_count": 42
    }
   ],
   "source": [
    "data = np.zeros((2, ), dtype=[('A', 'i4'), ('B', 'f4'), ('C', 'a10')])\n",
    "data"
   ]
  },
  {
   "cell_type": "code",
   "execution_count": 43,
   "metadata": {},
   "outputs": [
    {
     "output_type": "execute_result",
     "data": {
      "text/plain": [
       "   A    B         C\n",
       "0  1  2.0  b'Hello'\n",
       "1  2  3.0  b'World'"
      ],
      "text/html": "<div>\n<style scoped>\n    .dataframe tbody tr th:only-of-type {\n        vertical-align: middle;\n    }\n\n    .dataframe tbody tr th {\n        vertical-align: top;\n    }\n\n    .dataframe thead th {\n        text-align: right;\n    }\n</style>\n<table border=\"1\" class=\"dataframe\">\n  <thead>\n    <tr style=\"text-align: right;\">\n      <th></th>\n      <th>A</th>\n      <th>B</th>\n      <th>C</th>\n    </tr>\n  </thead>\n  <tbody>\n    <tr>\n      <th>0</th>\n      <td>1</td>\n      <td>2.0</td>\n      <td>b'Hello'</td>\n    </tr>\n    <tr>\n      <th>1</th>\n      <td>2</td>\n      <td>3.0</td>\n      <td>b'World'</td>\n    </tr>\n  </tbody>\n</table>\n</div>"
     },
     "metadata": {},
     "execution_count": 43
    }
   ],
   "source": [
    "data[:] = [(1, 2., 'Hello'), (2, 3., \"World\")]\n",
    "pd.DataFrame(data)"
   ]
  },
  {
   "cell_type": "code",
   "execution_count": 44,
   "metadata": {},
   "outputs": [
    {
     "output_type": "execute_result",
     "data": {
      "text/plain": [
       "        A    B         C\n",
       "first   1  2.0  b'Hello'\n",
       "second  2  3.0  b'World'"
      ],
      "text/html": "<div>\n<style scoped>\n    .dataframe tbody tr th:only-of-type {\n        vertical-align: middle;\n    }\n\n    .dataframe tbody tr th {\n        vertical-align: top;\n    }\n\n    .dataframe thead th {\n        text-align: right;\n    }\n</style>\n<table border=\"1\" class=\"dataframe\">\n  <thead>\n    <tr style=\"text-align: right;\">\n      <th></th>\n      <th>A</th>\n      <th>B</th>\n      <th>C</th>\n    </tr>\n  </thead>\n  <tbody>\n    <tr>\n      <th>first</th>\n      <td>1</td>\n      <td>2.0</td>\n      <td>b'Hello'</td>\n    </tr>\n    <tr>\n      <th>second</th>\n      <td>2</td>\n      <td>3.0</td>\n      <td>b'World'</td>\n    </tr>\n  </tbody>\n</table>\n</div>"
     },
     "metadata": {},
     "execution_count": 44
    }
   ],
   "source": [
    "pd.DataFrame(data, index=['first', 'second'])"
   ]
  },
  {
   "cell_type": "code",
   "execution_count": 45,
   "metadata": {},
   "outputs": [
    {
     "output_type": "execute_result",
     "data": {
      "text/plain": [
       "          C  A    B\n",
       "0  b'Hello'  1  2.0\n",
       "1  b'World'  2  3.0"
      ],
      "text/html": "<div>\n<style scoped>\n    .dataframe tbody tr th:only-of-type {\n        vertical-align: middle;\n    }\n\n    .dataframe tbody tr th {\n        vertical-align: top;\n    }\n\n    .dataframe thead th {\n        text-align: right;\n    }\n</style>\n<table border=\"1\" class=\"dataframe\">\n  <thead>\n    <tr style=\"text-align: right;\">\n      <th></th>\n      <th>C</th>\n      <th>A</th>\n      <th>B</th>\n    </tr>\n  </thead>\n  <tbody>\n    <tr>\n      <th>0</th>\n      <td>b'Hello'</td>\n      <td>1</td>\n      <td>2.0</td>\n    </tr>\n    <tr>\n      <th>1</th>\n      <td>b'World'</td>\n      <td>2</td>\n      <td>3.0</td>\n    </tr>\n  </tbody>\n</table>\n</div>"
     },
     "metadata": {},
     "execution_count": 45
    }
   ],
   "source": [
    "pd.DataFrame(data, columns=['C', 'A', 'B'])"
   ]
  },
  {
   "cell_type": "code",
   "execution_count": 46,
   "metadata": {},
   "outputs": [
    {
     "output_type": "execute_result",
     "data": {
      "text/plain": [
       "DatetimeIndex(['2013-01-01', '2013-01-02', '2013-01-03', '2013-01-04',\n",
       "               '2013-01-05', '2013-01-06'],\n",
       "              dtype='datetime64[ns]', freq='D')"
      ]
     },
     "metadata": {},
     "execution_count": 46
    }
   ],
   "source": [
    "pd.date_range('20130101', periods=6)"
   ]
  },
  {
   "cell_type": "code",
   "execution_count": 47,
   "metadata": {},
   "outputs": [],
   "source": [
    "dates = pd.date_range('20130101', periods=6)\n",
    "df = pd.DataFrame(np.random.randn(6, 4), index=dates, columns=list('ABCD'))"
   ]
  },
  {
   "cell_type": "code",
   "execution_count": 48,
   "metadata": {},
   "outputs": [
    {
     "output_type": "execute_result",
     "data": {
      "text/plain": [
       "                   A         B         C         D\n",
       "2013-01-01  1.521969 -2.682575  0.467486  1.530601\n",
       "2013-01-02  1.340206  1.066603 -0.658575 -0.144330\n",
       "2013-01-03  0.056583 -0.932226  2.008403 -0.600352\n",
       "2013-01-04 -1.266713  0.418023 -0.451682  0.726455\n",
       "2013-01-05 -1.866548 -0.223139  1.678463 -0.187838\n",
       "2013-01-06 -1.483031 -0.424513 -1.658431 -0.393625"
      ],
      "text/html": "<div>\n<style scoped>\n    .dataframe tbody tr th:only-of-type {\n        vertical-align: middle;\n    }\n\n    .dataframe tbody tr th {\n        vertical-align: top;\n    }\n\n    .dataframe thead th {\n        text-align: right;\n    }\n</style>\n<table border=\"1\" class=\"dataframe\">\n  <thead>\n    <tr style=\"text-align: right;\">\n      <th></th>\n      <th>A</th>\n      <th>B</th>\n      <th>C</th>\n      <th>D</th>\n    </tr>\n  </thead>\n  <tbody>\n    <tr>\n      <th>2013-01-01</th>\n      <td>1.521969</td>\n      <td>-2.682575</td>\n      <td>0.467486</td>\n      <td>1.530601</td>\n    </tr>\n    <tr>\n      <th>2013-01-02</th>\n      <td>1.340206</td>\n      <td>1.066603</td>\n      <td>-0.658575</td>\n      <td>-0.144330</td>\n    </tr>\n    <tr>\n      <th>2013-01-03</th>\n      <td>0.056583</td>\n      <td>-0.932226</td>\n      <td>2.008403</td>\n      <td>-0.600352</td>\n    </tr>\n    <tr>\n      <th>2013-01-04</th>\n      <td>-1.266713</td>\n      <td>0.418023</td>\n      <td>-0.451682</td>\n      <td>0.726455</td>\n    </tr>\n    <tr>\n      <th>2013-01-05</th>\n      <td>-1.866548</td>\n      <td>-0.223139</td>\n      <td>1.678463</td>\n      <td>-0.187838</td>\n    </tr>\n    <tr>\n      <th>2013-01-06</th>\n      <td>-1.483031</td>\n      <td>-0.424513</td>\n      <td>-1.658431</td>\n      <td>-0.393625</td>\n    </tr>\n  </tbody>\n</table>\n</div>"
     },
     "metadata": {},
     "execution_count": 48
    }
   ],
   "source": [
    "df"
   ]
  },
  {
   "source": [
    "## Operaciones\n",
    "\n"
   ],
   "cell_type": "markdown",
   "metadata": {}
  },
  {
   "cell_type": "code",
   "execution_count": 50,
   "metadata": {},
   "outputs": [
    {
     "output_type": "execute_result",
     "data": {
      "text/plain": [
       "                   A         B         C         D\n",
       "2013-01-01  1.521969 -2.682575  0.467486  1.530601\n",
       "2013-01-02  1.340206  1.066603 -0.658575 -0.144330\n",
       "2013-01-03  0.056583 -0.932226  2.008403 -0.600352"
      ],
      "text/html": "<div>\n<style scoped>\n    .dataframe tbody tr th:only-of-type {\n        vertical-align: middle;\n    }\n\n    .dataframe tbody tr th {\n        vertical-align: top;\n    }\n\n    .dataframe thead th {\n        text-align: right;\n    }\n</style>\n<table border=\"1\" class=\"dataframe\">\n  <thead>\n    <tr style=\"text-align: right;\">\n      <th></th>\n      <th>A</th>\n      <th>B</th>\n      <th>C</th>\n      <th>D</th>\n    </tr>\n  </thead>\n  <tbody>\n    <tr>\n      <th>2013-01-01</th>\n      <td>1.521969</td>\n      <td>-2.682575</td>\n      <td>0.467486</td>\n      <td>1.530601</td>\n    </tr>\n    <tr>\n      <th>2013-01-02</th>\n      <td>1.340206</td>\n      <td>1.066603</td>\n      <td>-0.658575</td>\n      <td>-0.144330</td>\n    </tr>\n    <tr>\n      <th>2013-01-03</th>\n      <td>0.056583</td>\n      <td>-0.932226</td>\n      <td>2.008403</td>\n      <td>-0.600352</td>\n    </tr>\n  </tbody>\n</table>\n</div>"
     },
     "metadata": {},
     "execution_count": 50
    }
   ],
   "source": [
    "df.head(3)"
   ]
  },
  {
   "cell_type": "code",
   "execution_count": 51,
   "metadata": {},
   "outputs": [
    {
     "output_type": "execute_result",
     "data": {
      "text/plain": [
       "                   A         B         C         D\n",
       "2013-01-04 -1.266713  0.418023 -0.451682  0.726455\n",
       "2013-01-05 -1.866548 -0.223139  1.678463 -0.187838\n",
       "2013-01-06 -1.483031 -0.424513 -1.658431 -0.393625"
      ],
      "text/html": "<div>\n<style scoped>\n    .dataframe tbody tr th:only-of-type {\n        vertical-align: middle;\n    }\n\n    .dataframe tbody tr th {\n        vertical-align: top;\n    }\n\n    .dataframe thead th {\n        text-align: right;\n    }\n</style>\n<table border=\"1\" class=\"dataframe\">\n  <thead>\n    <tr style=\"text-align: right;\">\n      <th></th>\n      <th>A</th>\n      <th>B</th>\n      <th>C</th>\n      <th>D</th>\n    </tr>\n  </thead>\n  <tbody>\n    <tr>\n      <th>2013-01-04</th>\n      <td>-1.266713</td>\n      <td>0.418023</td>\n      <td>-0.451682</td>\n      <td>0.726455</td>\n    </tr>\n    <tr>\n      <th>2013-01-05</th>\n      <td>-1.866548</td>\n      <td>-0.223139</td>\n      <td>1.678463</td>\n      <td>-0.187838</td>\n    </tr>\n    <tr>\n      <th>2013-01-06</th>\n      <td>-1.483031</td>\n      <td>-0.424513</td>\n      <td>-1.658431</td>\n      <td>-0.393625</td>\n    </tr>\n  </tbody>\n</table>\n</div>"
     },
     "metadata": {},
     "execution_count": 51
    }
   ],
   "source": [
    "df.tail(3)"
   ]
  },
  {
   "cell_type": "code",
   "execution_count": 52,
   "metadata": {},
   "outputs": [
    {
     "output_type": "execute_result",
     "data": {
      "text/plain": [
       "              A         B         C         D\n",
       "count  6.000000  6.000000  6.000000  6.000000\n",
       "mean  -0.282922 -0.462971  0.230944  0.155152\n",
       "std    1.478067  1.290084  1.423909  0.812099\n",
       "min   -1.866548 -2.682575 -1.658431 -0.600352\n",
       "25%   -1.428952 -0.805298 -0.606852 -0.342178\n",
       "50%   -0.605065 -0.323826  0.007902 -0.166084\n",
       "75%    1.019300  0.257732  1.375719  0.508759\n",
       "max    1.521969  1.066603  2.008403  1.530601"
      ],
      "text/html": "<div>\n<style scoped>\n    .dataframe tbody tr th:only-of-type {\n        vertical-align: middle;\n    }\n\n    .dataframe tbody tr th {\n        vertical-align: top;\n    }\n\n    .dataframe thead th {\n        text-align: right;\n    }\n</style>\n<table border=\"1\" class=\"dataframe\">\n  <thead>\n    <tr style=\"text-align: right;\">\n      <th></th>\n      <th>A</th>\n      <th>B</th>\n      <th>C</th>\n      <th>D</th>\n    </tr>\n  </thead>\n  <tbody>\n    <tr>\n      <th>count</th>\n      <td>6.000000</td>\n      <td>6.000000</td>\n      <td>6.000000</td>\n      <td>6.000000</td>\n    </tr>\n    <tr>\n      <th>mean</th>\n      <td>-0.282922</td>\n      <td>-0.462971</td>\n      <td>0.230944</td>\n      <td>0.155152</td>\n    </tr>\n    <tr>\n      <th>std</th>\n      <td>1.478067</td>\n      <td>1.290084</td>\n      <td>1.423909</td>\n      <td>0.812099</td>\n    </tr>\n    <tr>\n      <th>min</th>\n      <td>-1.866548</td>\n      <td>-2.682575</td>\n      <td>-1.658431</td>\n      <td>-0.600352</td>\n    </tr>\n    <tr>\n      <th>25%</th>\n      <td>-1.428952</td>\n      <td>-0.805298</td>\n      <td>-0.606852</td>\n      <td>-0.342178</td>\n    </tr>\n    <tr>\n      <th>50%</th>\n      <td>-0.605065</td>\n      <td>-0.323826</td>\n      <td>0.007902</td>\n      <td>-0.166084</td>\n    </tr>\n    <tr>\n      <th>75%</th>\n      <td>1.019300</td>\n      <td>0.257732</td>\n      <td>1.375719</td>\n      <td>0.508759</td>\n    </tr>\n    <tr>\n      <th>max</th>\n      <td>1.521969</td>\n      <td>1.066603</td>\n      <td>2.008403</td>\n      <td>1.530601</td>\n    </tr>\n  </tbody>\n</table>\n</div>"
     },
     "metadata": {},
     "execution_count": 52
    }
   ],
   "source": [
    "df.describe()"
   ]
  },
  {
   "cell_type": "code",
   "execution_count": 53,
   "metadata": {},
   "outputs": [
    {
     "output_type": "execute_result",
     "data": {
      "text/plain": [
       "   2013-01-01  2013-01-02  2013-01-03  2013-01-04  2013-01-05  2013-01-06\n",
       "A    1.521969    1.340206    0.056583   -1.266713   -1.866548   -1.483031\n",
       "B   -2.682575    1.066603   -0.932226    0.418023   -0.223139   -0.424513\n",
       "C    0.467486   -0.658575    2.008403   -0.451682    1.678463   -1.658431\n",
       "D    1.530601   -0.144330   -0.600352    0.726455   -0.187838   -0.393625"
      ],
      "text/html": "<div>\n<style scoped>\n    .dataframe tbody tr th:only-of-type {\n        vertical-align: middle;\n    }\n\n    .dataframe tbody tr th {\n        vertical-align: top;\n    }\n\n    .dataframe thead th {\n        text-align: right;\n    }\n</style>\n<table border=\"1\" class=\"dataframe\">\n  <thead>\n    <tr style=\"text-align: right;\">\n      <th></th>\n      <th>2013-01-01</th>\n      <th>2013-01-02</th>\n      <th>2013-01-03</th>\n      <th>2013-01-04</th>\n      <th>2013-01-05</th>\n      <th>2013-01-06</th>\n    </tr>\n  </thead>\n  <tbody>\n    <tr>\n      <th>A</th>\n      <td>1.521969</td>\n      <td>1.340206</td>\n      <td>0.056583</td>\n      <td>-1.266713</td>\n      <td>-1.866548</td>\n      <td>-1.483031</td>\n    </tr>\n    <tr>\n      <th>B</th>\n      <td>-2.682575</td>\n      <td>1.066603</td>\n      <td>-0.932226</td>\n      <td>0.418023</td>\n      <td>-0.223139</td>\n      <td>-0.424513</td>\n    </tr>\n    <tr>\n      <th>C</th>\n      <td>0.467486</td>\n      <td>-0.658575</td>\n      <td>2.008403</td>\n      <td>-0.451682</td>\n      <td>1.678463</td>\n      <td>-1.658431</td>\n    </tr>\n    <tr>\n      <th>D</th>\n      <td>1.530601</td>\n      <td>-0.144330</td>\n      <td>-0.600352</td>\n      <td>0.726455</td>\n      <td>-0.187838</td>\n      <td>-0.393625</td>\n    </tr>\n  </tbody>\n</table>\n</div>"
     },
     "metadata": {},
     "execution_count": 53
    }
   ],
   "source": [
    "df.T"
   ]
  },
  {
   "cell_type": "code",
   "execution_count": 55,
   "metadata": {},
   "outputs": [
    {
     "output_type": "execute_result",
     "data": {
      "text/plain": [
       "                   A         B         C         D\n",
       "2013-01-06 -1.483031 -0.424513 -1.658431 -0.393625\n",
       "2013-01-05 -1.866548 -0.223139  1.678463 -0.187838\n",
       "2013-01-04 -1.266713  0.418023 -0.451682  0.726455\n",
       "2013-01-03  0.056583 -0.932226  2.008403 -0.600352\n",
       "2013-01-02  1.340206  1.066603 -0.658575 -0.144330\n",
       "2013-01-01  1.521969 -2.682575  0.467486  1.530601"
      ],
      "text/html": "<div>\n<style scoped>\n    .dataframe tbody tr th:only-of-type {\n        vertical-align: middle;\n    }\n\n    .dataframe tbody tr th {\n        vertical-align: top;\n    }\n\n    .dataframe thead th {\n        text-align: right;\n    }\n</style>\n<table border=\"1\" class=\"dataframe\">\n  <thead>\n    <tr style=\"text-align: right;\">\n      <th></th>\n      <th>A</th>\n      <th>B</th>\n      <th>C</th>\n      <th>D</th>\n    </tr>\n  </thead>\n  <tbody>\n    <tr>\n      <th>2013-01-06</th>\n      <td>-1.483031</td>\n      <td>-0.424513</td>\n      <td>-1.658431</td>\n      <td>-0.393625</td>\n    </tr>\n    <tr>\n      <th>2013-01-05</th>\n      <td>-1.866548</td>\n      <td>-0.223139</td>\n      <td>1.678463</td>\n      <td>-0.187838</td>\n    </tr>\n    <tr>\n      <th>2013-01-04</th>\n      <td>-1.266713</td>\n      <td>0.418023</td>\n      <td>-0.451682</td>\n      <td>0.726455</td>\n    </tr>\n    <tr>\n      <th>2013-01-03</th>\n      <td>0.056583</td>\n      <td>-0.932226</td>\n      <td>2.008403</td>\n      <td>-0.600352</td>\n    </tr>\n    <tr>\n      <th>2013-01-02</th>\n      <td>1.340206</td>\n      <td>1.066603</td>\n      <td>-0.658575</td>\n      <td>-0.144330</td>\n    </tr>\n    <tr>\n      <th>2013-01-01</th>\n      <td>1.521969</td>\n      <td>-2.682575</td>\n      <td>0.467486</td>\n      <td>1.530601</td>\n    </tr>\n  </tbody>\n</table>\n</div>"
     },
     "metadata": {},
     "execution_count": 55
    }
   ],
   "source": [
    "df.sort_index(axis=0, ascending=False)"
   ]
  },
  {
   "cell_type": "code",
   "execution_count": 56,
   "metadata": {},
   "outputs": [
    {
     "output_type": "execute_result",
     "data": {
      "text/plain": [
       "                   A         B         C         D\n",
       "2013-01-01  1.521969 -2.682575  0.467486  1.530601\n",
       "2013-01-03  0.056583 -0.932226  2.008403 -0.600352\n",
       "2013-01-06 -1.483031 -0.424513 -1.658431 -0.393625\n",
       "2013-01-05 -1.866548 -0.223139  1.678463 -0.187838\n",
       "2013-01-04 -1.266713  0.418023 -0.451682  0.726455\n",
       "2013-01-02  1.340206  1.066603 -0.658575 -0.144330"
      ],
      "text/html": "<div>\n<style scoped>\n    .dataframe tbody tr th:only-of-type {\n        vertical-align: middle;\n    }\n\n    .dataframe tbody tr th {\n        vertical-align: top;\n    }\n\n    .dataframe thead th {\n        text-align: right;\n    }\n</style>\n<table border=\"1\" class=\"dataframe\">\n  <thead>\n    <tr style=\"text-align: right;\">\n      <th></th>\n      <th>A</th>\n      <th>B</th>\n      <th>C</th>\n      <th>D</th>\n    </tr>\n  </thead>\n  <tbody>\n    <tr>\n      <th>2013-01-01</th>\n      <td>1.521969</td>\n      <td>-2.682575</td>\n      <td>0.467486</td>\n      <td>1.530601</td>\n    </tr>\n    <tr>\n      <th>2013-01-03</th>\n      <td>0.056583</td>\n      <td>-0.932226</td>\n      <td>2.008403</td>\n      <td>-0.600352</td>\n    </tr>\n    <tr>\n      <th>2013-01-06</th>\n      <td>-1.483031</td>\n      <td>-0.424513</td>\n      <td>-1.658431</td>\n      <td>-0.393625</td>\n    </tr>\n    <tr>\n      <th>2013-01-05</th>\n      <td>-1.866548</td>\n      <td>-0.223139</td>\n      <td>1.678463</td>\n      <td>-0.187838</td>\n    </tr>\n    <tr>\n      <th>2013-01-04</th>\n      <td>-1.266713</td>\n      <td>0.418023</td>\n      <td>-0.451682</td>\n      <td>0.726455</td>\n    </tr>\n    <tr>\n      <th>2013-01-02</th>\n      <td>1.340206</td>\n      <td>1.066603</td>\n      <td>-0.658575</td>\n      <td>-0.144330</td>\n    </tr>\n  </tbody>\n</table>\n</div>"
     },
     "metadata": {},
     "execution_count": 56
    }
   ],
   "source": [
    "df.sort_values(by='B')"
   ]
  },
  {
   "cell_type": "code",
   "execution_count": 59,
   "metadata": {},
   "outputs": [
    {
     "output_type": "execute_result",
     "data": {
      "text/plain": [
       "array([[ 1.52196867, -2.68257515,  0.46748612,  1.53060118],\n",
       "       [ 1.34020618,  1.06660345, -0.65857535, -0.14433016],\n",
       "       [ 0.05658286, -0.93222572,  2.00840298, -0.60035237],\n",
       "       [-1.26671313,  0.41802262, -0.45168211,  0.72645521],\n",
       "       [-1.8665482 , -0.22313924,  1.67846325, -0.18783837],\n",
       "       [-1.48303102, -0.4245131 , -1.65843076, -0.39362451]])"
      ]
     },
     "metadata": {},
     "execution_count": 59
    }
   ],
   "source": [
    "df.to_numpy()"
   ]
  },
  {
   "cell_type": "code",
   "execution_count": null,
   "metadata": {},
   "outputs": [],
   "source": []
  }
 ]
}